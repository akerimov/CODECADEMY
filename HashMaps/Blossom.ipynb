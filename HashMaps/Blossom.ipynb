{
 "cells": [
  {
   "cell_type": "code",
   "execution_count": null,
   "metadata": {},
   "outputs": [],
   "source": [
    "class Node:\n",
    "    def __init__(self, value):\n",
    "        self.value = value\n",
    "        self.next_node = None\n",
    "    \n",
    "    def get_value(self):\n",
    "        return self.value\n",
    "  \n",
    "    def get_next_node(self):\n",
    "        return self.next_node\n",
    "  \n",
    "    def set_next_node(self, next_node):\n",
    "        self.next_node = next_node"
   ]
  },
  {
   "cell_type": "code",
   "execution_count": null,
   "metadata": {},
   "outputs": [],
   "source": [
    "class LinkedList:\n",
    "    def __init__(self, head_node=None):\n",
    "        self.head_node = head_node\n",
    "  \n",
    "    def insert(self, new_node):\n",
    "        current_node = self.head_node\n",
    "\n",
    "        if not current_node:\n",
    "            self.head_node = new_node\n",
    "\n",
    "        while(current_node):\n",
    "            next_node = current_node.get_next_node()\n",
    "            if not next_node:\n",
    "                current_node.set_next_node(new_node)\n",
    "            current_node = next_node\n",
    "\n",
    "    def __iter__(self):\n",
    "        current_node = self.head_node\n",
    "        while(current_node):\n",
    "            yield current_node.get_value()\n",
    "            current_node = current_node.get_next_node()"
   ]
  },
  {
   "cell_type": "code",
   "execution_count": null,
   "metadata": {},
   "outputs": [],
   "source": [
    "class HashMap:\n",
    "    def __init__(self, size):\n",
    "        self.array_size = size\n",
    "        self.array = [LinkedList() for i in range(self.array_size)]\n",
    "  \n",
    "    def hash(self,key):\n",
    "        hash_code = sum(key.encode())\n",
    "        return hash_code\n",
    "\n",
    "    def compressor(self,hash_code):\n",
    "        return hash_code % self.array_size\n",
    "  \n",
    "    def assign(self, key, value):\n",
    "        array_index = self.compressor(self.hash(key))\n",
    "        payload = Node([key,value])\n",
    "        list_at_array = self.array[array_index] \n",
    "        \n",
    "        for item in list_at_array:\n",
    "            if key == item[0]:\n",
    "                item[1] = value\n",
    "                return \n",
    "        list_at_array.insert(payload)\n",
    "    \n",
    "    def retrieve(self,key):\n",
    "        array_index = self.compressor(self.hash(key))\n",
    "        list_at_index = self.array[array_index] \n",
    "\n",
    "        for item in list_at_index:\n",
    "            if key == item[0]:\n",
    "                return item[1]\n",
    "        return None"
   ]
  },
  {
   "cell_type": "code",
   "execution_count": null,
   "metadata": {},
   "outputs": [],
   "source": [
    "if __name__ == '__main__':\n",
    "    flower_definitions = [['begonia', 'cautiousness'], \n",
    "                      ['chrysanthemum', 'cheerfulness'], \n",
    "                      ['carnation', 'memories'], \n",
    "                      ['daisy', 'innocence'], \n",
    "                      ['hyacinth', 'playfulness'], \n",
    "                      ['lavender', 'devotion'], \n",
    "                      ['magnolia', 'dignity'], \n",
    "                      ['morning glory', 'unrequited love'], \n",
    "                      ['periwinkle', 'new friendship'], \n",
    "                      ['poppy', 'rest'], \n",
    "                      ['rose', 'love'], \n",
    "                      ['snapdragon', 'grace'], \n",
    "                      ['sunflower', 'longevity'],\n",
    "                      ['wisteria', 'good luck']]\n",
    "    \n",
    "    blossom = HashMap(len(flower_definitions))\n",
    "    for flower in flower_definitions:\n",
    "        blossom.assign(flower[0], flower[1])\n",
    "    print(blossom.retrieve('rose'))"
   ]
  }
 ],
 "metadata": {
  "kernelspec": {
   "display_name": "intel-2020",
   "language": "python",
   "name": "conda-env-intel-2020-py"
  },
  "language_info": {
   "codemirror_mode": {
    "name": "ipython",
    "version": 3
   },
   "file_extension": ".py",
   "mimetype": "text/x-python",
   "name": "python",
   "nbconvert_exporter": "python",
   "pygments_lexer": "ipython3",
   "version": "3.7.10"
  }
 },
 "nbformat": 4,
 "nbformat_minor": 4
}
